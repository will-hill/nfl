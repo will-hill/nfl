{
 "cells": [
  {
   "cell_type": "markdown",
   "metadata": {
    "toc": true
   },
   "source": [
    "<h1>contents<span class=\"tocSkip\"></span></h1>\n",
    "<div class=\"toc\"><ul class=\"toc-item\"></ul></div>"
   ]
  },
  {
   "cell_type": "code",
   "execution_count": 9,
   "metadata": {},
   "outputs": [],
   "source": [
    "import urllib.request"
   ]
  },
  {
   "cell_type": "code",
   "execution_count": 3,
   "metadata": {},
   "outputs": [],
   "source": [
    "teams = ['arz','atl','bal','buf','car','chi','cin','cle','dal','den','det','gb','hou','ind','jac','kc','lac','lam','mia','min','ne','no','nyg','nyj','oak','phi','pit','sf','sea','tb','ten','was']"
   ]
  },
  {
   "cell_type": "code",
   "execution_count": 8,
   "metadata": {},
   "outputs": [
    {
     "name": "stdout",
     "output_type": "stream",
     "text": [
      "arz\n",
      "atl\n",
      "bal\n",
      "buf\n",
      "car\n",
      "chi\n",
      "cin\n",
      "cle\n",
      "dal\n",
      "den\n",
      "det\n",
      "gb\n",
      "hou\n",
      "ind\n",
      "jac\n",
      "kc\n",
      "lac\n",
      "lam\n",
      "mia\n",
      "min\n",
      "ne\n",
      "no\n",
      "nyg\n",
      "nyj\n",
      "oak\n",
      "phi\n",
      "pit\n",
      "sf\n",
      "sea\n",
      "tb\n",
      "ten\n",
      "was\n"
     ]
    }
   ],
   "source": [
    "for team in teams:\n",
    "    print(team)"
   ]
  },
  {
   "cell_type": "code",
   "execution_count": 7,
   "metadata": {},
   "outputs": [
    {
     "name": "stdout",
     "output_type": "stream",
     "text": [
      "2015\n",
      "2016\n",
      "2017\n",
      "2018\n"
     ]
    }
   ],
   "source": [
    "for yyyy in range(2015,2019,1):\n",
    "    print(yyyy)"
   ]
  },
  {
   "cell_type": "code",
   "execution_count": 11,
   "metadata": {},
   "outputs": [],
   "source": [
    "url = 'http://www.jt-sw.com/football/pro/rosters.nsf/Annual/2018-arz'\n",
    "response = urllib.request.urlopen(url)\n",
    "html = response.read()"
   ]
  },
  {
   "cell_type": "code",
   "execution_count": 12,
   "metadata": {},
   "outputs": [
    {
     "data": {
      "text/plain": [
       "b'<!DOCTYPE HTML PUBLIC \"-//W3C//DTD HTML 4.01 Transitional//EN\">\\n<html>\\n<head>\\n<title>2018 Arizona Cardinals</title>\\n<script language=\"JavaScript\" type=\"text/javascript\">\\n<!-- \\ndocument._domino_target = \"_self\";\\nfunction _doClick(v, o, t) {\\n  var returnValue = false;\\n  var url=\"/football/pro/rosters.nsf/Annual/2018-arz?OpenDocument&Click=\" + v;\\n  if (o.href != null) {\\n    o.href = url;\\n    returnValue = true;\\n  } else {\\n    if (t == null)\\n      t = document._domino_target;\\n    window.open(url, t);\\n  }\\n  return returnValue;\\n}\\n// -->\\n</script>\\n</head>\\n<body text=\"#000000\" bgcolor=\"#FFFFFF\">\\n\\n<form action=\"\">\\n<table CELLPADDING=8 width=\"100%\" border=\"0\" cellspacing=\"0\" cellpadding=\"0\">\\n<tr valign=\"top\"><td width=\"13%\" bgcolor=\"#E0F1FF\"><div align=\"center\"><b><BR>Site Pages</b><br>\\n<a href=\"/football\"><b><u><font color=\"#0000FF\">Home</font></u></b></a><br>\\n<a href=\"/football/site-contents.html\"><b><u><font color=\"#0000FF\">Contents</font></u></b></a><a href=\"/football/site-index.html\"></a><br>\\n<a href=\"/football/site-index.html\"><b><u><font color=\"#0000FF\">Index</font></u></b></a><br>\\n<br>\\n<hr width=\"95%\" size=\"5\" align=\"center\" noshade style=\"color:#000080; \"><br>\\n<a href=\"/football/pro/rosters.nsf\"><b><u>Rosters</u></b></a><br>\\n<br>\\n<hr width=\"95%\" size=\"5\" align=\"center\" noshade style=\"color:#000080; \"><br>\\n<b>Cardinals</b><br>\\n<b><A HREF=\"/football/pro/teams.nsf/histories/cardinals\">Historical<BR><A HREF=\"/football/pro/stats.nsf/Annual/2018-arz\">2018 Stats</A><BR><A HREF=\"/football/pro/results.nsf/Teams/2018-arz\">2018 Games</A></b><br>\\n<br>\\n<hr width=\"95%\" size=\"5\" align=\"center\" noshade style=\"color:#000080; \"><br>\\n<b>2018</b><br>\\n<b><A HREF=\"/football/pro/standings.nsf/Seasons/2018\">Standings</A><BR><A HREF=\"/football/pro/stats.nsf/By/Season?OpenDocument&Season=2018\">Stats</A><BR><A HREF=\"/football/pro/rosters.nsf/By/Season?OpenDocument&Season=2018\">Rosters</A><BR><A HREF=\"/football/pro/results.nsf/By/Season?OpenDocument&Season=2018\">Games</A></b><br>\\n<b><BR></b></div></td><td width=\"87%\"><b><i><font size=\"6\">2018 Arizona Cardinals</font></i></b><br>\\n<br>\\n<b>Head Coach: </b><A HREF=\"/football/pro/players.nsf/ID/08700444\">Steve Wilks</A>\\n<ul type=\"disc\">\\n<li><font size=\"2\">To be listed, a player must have played at least one game for the team during this season.</font>\\n<li><font size=\"2\">+ Primary starter</font></ul>\\n<br>\\n<TABLE CELLPADDING=4><TR ALIGN=CENTER><TH>Pos</TH><TH><A HREF=\"/football/pro/rosters.nsf/Annual/2018-arz-jn\">#</A></TH><TH></TH><TH><FONT COLOR=RED>Player</FONT></TH><TH>GP</TH><TH>GS</TH><TH><A HREF=\"/football/pro/rosters.nsf/Annual/2018-arz-st\">Start Pos</TH><TH>Exp</TH><TH>DOB</TH><TH>Ht</TH><TH>Wt</TH><TH>College</TH></TR><TR ALIGN=CENTER><TD>T/G</TD><TD>70</TD><TD ALIGN=RIGHT></TD><TD ALIGN=LEFT><A HREF=\"/football/pro/players.nsf/ID/09450986\">Oday Aboushi</A></TD><TD>8</TD><TD ALIGN=CENTER>6</TD><TD>RG</TD><TD>6</TD><TD>06/05/1991</TD><TD>6\\' 5\"</TD><TD>315</TD><TD ALIGN=LEFT>Virginia</TD></TR><TR ALIGN=CENTER><TD>CB</TD><TD>38</TD><TD ALIGN=RIGHT></TD><TD ALIGN=LEFT><A HREF=\"/football/pro/players.nsf/ID/09480845\">David Amerson</A></TD><TD>6</TD><TD ALIGN=CENTER>5</TD><TD>RCB</TD><TD>6</TD><TD>12/08/1991</TD><TD>6\\' 1\"</TD><TD>205</TD><TD ALIGN=LEFT>North Carolina State</TD></TR><TR ALIGN=CENTER><TD>LB</TD><TD>58</TD><TD ALIGN=RIGHT></TD><TD ALIGN=LEFT><A HREF=\"/football/pro/players.nsf/ID/09670350\">Thurston Armbrister</A></TD><TD>1</TD><TD ALIGN=CENTER>0</TD><TD>LB</TD><TD>3</TD><TD>12/25/1992</TD><TD>6\\' 2\"</TD><TD>239</TD><TD ALIGN=LEFT>Miami (FL)</TD></TR><TR ALIGN=CENTER><TD>S</TD><TD>36</TD><TD ALIGN=RIGHT></TD><TD ALIGN=LEFT><A HREF=\"/football/pro/players.nsf/ID/09880004\">Budda Baker</A></TD><TD>14</TD><TD ALIGN=CENTER>13</TD><TD>SS+</TD><TD>2</TD><TD>01/10/1996</TD><TD>5\\' 10\"</TD><TD>195</TD><TD ALIGN=LEFT>Washington</TD></TR><TR ALIGN=CENTER><TD>T</TD><TD>60</TD><TD ALIGN=RIGHT></TD><TD ALIGN=LEFT><A HREF=\"/football/pro/players.nsf/ID/09250029\">Joe Barksdale</A></TD><TD>4</TD><TD ALIGN=CENTER>4</TD><TD>RT</TD><TD>8</TD><TD>01/04/1988</TD><TD>6\\' 5\"</TD><TD>326</TD><TD ALIGN=LEFT>Louisiana State</TD></TR><TR ALIGN=CENTER><TD>CB</TD><TD>23</TD><TD ALIGN=RIGHT></TD><TD ALIGN=LEFT><A HREF=\"/football/pro/players.nsf/ID/09580041\">Bene\\' Benwikere</A></TD><TD>11</TD><TD ALIGN=CENTER>8</TD><TD>RCB+/LCB</TD><TD>5</TD><TD>09/03/1991</TD><TD>6\\' 0\"</TD><TD>195</TD><TD ALIGN=LEFT>San Jose State</TD></TR><TR ALIGN=CENTER><TD>S</TD><TD>41</TD><TD ALIGN=RIGHT></TD><TD ALIGN=LEFT><A HREF=\"/football/pro/players.nsf/ID/08780026\">Antoine Bethea</A></TD><TD>16</TD><TD ALIGN=CENTER>16</TD><TD>FS+</TD><TD>13</TD><TD>07/27/1984</TD><TD>5\\' 11\"</TD><TD>206</TD><TD ALIGN=LEFT>Howard</TD></TR><TR ALIGN=CENTER><TD>S</TD><TD>33</TD><TD ALIGN=RIGHT></TD><TD ALIGN=LEFT><A HREF=\"/football/pro/players.nsf/ID/09580049\">Tre Boston</A></TD><TD>14</TD><TD ALIGN=CENTER>13</TD><TD>NB+/SS</TD><TD>5</TD><TD>06/25/1992</TD><TD>6\\' 1\"</TD><TD>205</TD><TD ALIGN=LEFT>North Carolina</TD></TR><TR ALIGN=CENTER><TD>QB</TD><TD>9</TD><TD ALIGN=RIGHT></TD><TD ALIGN=LEFT><A HREF=\"/football/pro/players.nsf/ID/09110296\">Sam Bradford</A></TD><TD>3</TD><TD ALIGN=CENTER>3</TD><TD>QB</TD><TD>8</TD><TD>11/08/1987</TD><TD>6\\' 4\"</TD><TD>224</TD><TD ALIGN=LEFT>Oklahoma</TD></TR><TR ALIGN=CENTER><TD>LS</TD><TD>46</TD><TD ALIGN=RIGHT></TD><TD ALIGN=LEFT><A HREF=\"/football/pro/players.nsf/ID/09350378\">Aaron Brewer</A></TD><TD>16</TD><TD ALIGN=CENTER>0</TD><TD>LS</TD><TD>7</TD><TD>07/05/1990</TD><TD>6\\' 5\"</TD><TD>232</TD><TD ALIGN=LEFT>San Diego State</TD></TR><TR ALIGN=CENTER><TD>S/CB</TD><TD>20</TD><TD ALIGN=RIGHT></TD><TD ALIGN=LEFT><A HREF=\"/football/pro/players.nsf/ID/09580008\">Deone Bucannon</A></TD><TD>13</TD><TD ALIGN=CENTER>6</TD><TD>WLB</TD><TD>5</TD><TD>08/30/1992</TD><TD>6\\' 1\"</TD><TD>211</TD><TD ALIGN=LEFT>Washington State</TD></TR><TR ALIGN=CENTER><TD>LB</TD><TD>57</TD><TD ALIGN=RIGHT></TD><TD ALIGN=LEFT><A HREF=\"/football/pro/players.nsf/ID/09270060\">Josh Bynes</A></TD><TD>11</TD><TD ALIGN=CENTER>11</TD><TD>MLB+</TD><TD>8</TD><TD>08/24/1989</TD><TD>6\\' 1\"</TD><TD>235</TD><TD ALIGN=LEFT>Auburn</TD></TR><TR ALIGN=CENTER><TD>T</TD><TD>75</TD><TD ALIGN=RIGHT></TD><TD ALIGN=LEFT><A HREF=\"/football/pro/players.nsf/ID/09751129\">Blaine Clausell</A></TD><TD>2</TD><TD ALIGN=CENTER>0</TD><TD>OL</TD><TD>1</TD><TD>01/31/1992</TD><TD>6\\' 6\"</TD><TD>330</TD><TD ALIGN=LEFT>Mississippi State</TD></TR><TR ALIGN=CENTER><TD>C</TD><TD>64</TD><TD ALIGN=RIGHT></TD><TD ALIGN=LEFT><A HREF=\"/football/pro/players.nsf/ID/09950099\">Mason Cole</A></TD><TD>16</TD><TD ALIGN=CENTER>16</TD><TD>C+</TD><TD>R</TD><TD>03/28/1996</TD><TD>6\\' 5\"</TD><TD>307</TD><TD ALIGN=LEFT>Michigan</TD></TR><TR ALIGN=CENTER><TD>FB</TD><TD>32</TD><TD ALIGN=RIGHT></TD><TD ALIGN=LEFT><A HREF=\"/football/pro/players.nsf/ID/09420803\">Derrick Coleman</A></TD><TD>16</TD><TD ALIGN=CENTER>4</TD><TD>FB</TD><TD>5</TD><TD>10/18/1990</TD><TD>6\\' 0\"</TD><TD>233</TD><TD ALIGN=LEFT>UCLA</TD></TR><TR ALIGN=CENTER><TD>WR</TD><TD>12</TD><TD ALIGN=RIGHT></TD><TD ALIGN=LEFT><A HREF=\"/football/pro/players.nsf/ID/09740800\">Pharoh Cooper</A></TD><TD>2</TD><TD ALIGN=CENTER>0</TD><TD>WR</TD><TD>3</TD><TD>03/07/1995</TD><TD>5\\' 11\"</TD><TD>208</TD><TD ALIGN=LEFT>South Carolina</TD></TR><TR ALIGN=CENTER><TD>T</TD><TD>79</TD><TD ALIGN=RIGHT></TD><TD ALIGN=LEFT><A HREF=\"/football/pro/players.nsf/ID/09950356\">Korey Cunningham</A></TD><TD>6</TD><TD ALIGN=CENTER>6</TD><TD>LT</TD><TD>1</TD><TD>05/17/1995</TD><TD>6\\' 6\"</TD><TD>311</TD><TD ALIGN=LEFT>Cincinnati</TD></TR><TR ALIGN=CENTER><TD>TE</TD><TD>81</TD><TD ALIGN=RIGHT></TD><TD ALIGN=LEFT><A HREF=\"/football/pro/players.nsf/ID/09830131\">Darrell Daniels</A></TD><TD>2</TD><TD ALIGN=CENTER>1</TD><TD>TE</TD><TD>2</TD><TD>11/22/1994</TD><TD>6\\' 3\"</TD><TD>254</TD><TD ALIGN=LEFT>Washington</TD></TR><TR ALIGN=CENTER><TD>K</TD><TD>4</TD><TD ALIGN=RIGHT></TD><TD ALIGN=LEFT><A HREF=\"/football/pro/players.nsf/ID/08090065\">Phil Dawson</A></TD><TD>10</TD><TD ALIGN=CENTER>0</TD><TD>K</TD><TD>20</TD><TD>01/23/1975</TD><TD>5\\' 11\"</TD><TD>200</TD><TD ALIGN=LEFT>Texas</TD></TR><TR ALIGN=CENTER><TD>LB</TD><TD>54</TD><TD ALIGN=RIGHT></TD><TD ALIGN=LEFT><A HREF=\"/football/pro/players.nsf/ID/09771048\">Vontarrius Dora</A></TD><TD>3</TD><TD ALIGN=CENTER>0</TD><TD>DE/LB</TD><TD>2</TD><TD>09/07/1992</TD><TD>6\\' 4\"</TD><TD>256</TD><TD ALIGN=LEFT>Louisiana Tech</TD></TR><TR ALIGN=CENTER><TD>WR</TD><TD>15</TD><TD ALIGN=RIGHT></TD><TD ALIGN=LEFT><A HREF=\"/football/pro/players.nsf/ID/09840670\">Malachi Dupre</A></TD><TD>1</TD><TD ALIGN=CENTER>0</TD><TD>WR</TD><TD>1</TD><TD>10/12/1995</TD><TD>6\\' 2\"</TD><TD>196</TD><TD ALIGN=LEFT>Louisiana State</TD></TR><TR ALIGN=CENTER><TD>RB</TD><TD>29</TD><TD ALIGN=RIGHT></TD><TD ALIGN=LEFT><A HREF=\"/football/pro/players.nsf/ID/09920097\">Chase Edmonds</A></TD><TD>16</TD><TD ALIGN=CENTER>0</TD><TD>RB</TD><TD>R</TD><TD>04/13/1996</TD><TD>5\\' 9\"</TD><TD>205</TD><TD ALIGN=LEFT>Fordham</TD></TR><TR ALIGN=CENTER><TD>WR</TD><TD>11</TD><TD ALIGN=RIGHT></TD><TD ALIGN=LEFT><A HREF=\"/football/pro/players.nsf/ID/08540011\">Larry Fitzgerald</A></TD><TD>16</TD><TD ALIGN=CENTER>16</TD><TD>WR+</TD><TD>15</TD><TD>08/31/1983</TD><TD>6\\' 3\"</TD><TD>218</TD><TD ALIGN=LEFT>Pittsburgh</TD></TR><TR ALIGN=CENTER><TD>CB/S</TD><TD>30</TD><TD ALIGN=RIGHT></TD><TD ALIGN=LEFT><A HREF=\"/football/pro/players.nsf/ID/09880005\">Rudy Ford</A></TD><TD>13</TD><TD ALIGN=CENTER>1</TD><TD>NB</TD><TD>2</TD><TD>11/01/1994</TD><TD>6\\' 0\"</TD><TD>204</TD><TD ALIGN=LEFT>Auburn</TD></TR><TR ALIGN=CENTER><TD>LB</TD><TD>92</TD><TD ALIGN=RIGHT></TD><TD ALIGN=LEFT><A HREF=\"/football/pro/players.nsf/ID/09970098\">Dennis Gardeck</A></TD><TD>16</TD><TD ALIGN=CENTER>0</TD><TD>LB</TD><TD>1</TD><TD>08/09/1994</TD><TD>6\\' 0\"</TD><TD>242</TD><TD ALIGN=LEFT>Sioux Falls</TD></TR><TR ALIGN=CENTER><TD>QB</TD><TD>7</TD><TD ALIGN=RIGHT></TD><TD ALIGN=LEFT><A HREF=\"/football/pro/players.nsf/ID/09410894\">Mike Glennon</A></TD><TD>2</TD><TD ALIGN=CENTER>0</TD><TD>QB</TD><TD>5</TD><TD>12/12/1989</TD><TD>6\\' 6\"</TD><TD>225</TD><TD ALIGN=LEFT>North Carolina State</TD></TR><TR ALIGN=CENTER><TD>LB</TD><TD>44</TD><TD ALIGN=RIGHT></TD><TD ALIGN=LEFT><A HREF=\"/football/pro/players.nsf/ID/09670243\">Markus Golden</A></TD><TD>11</TD><TD ALIGN=CENTER>11</TD><TD>LDE+</TD><TD>4</TD><TD>03/13/1991</TD><TD>6\\' 3\"</TD><TD>260</TD><TD ALIGN=LEFT>Mississippi</TD></TR><TR ALIGN=CENTER><TD>G</TD><TD>75</TD><TD ALIGN=RIGHT></TD><TD ALIGN=LEFT><A HREF=\"/football/pro/players.nsf/ID/09950389\">Zack Golditch</A></TD><TD>2</TD><TD ALIGN=CENTER>0</TD><TD>OL</TD><TD>1</TD><TD>02/22/1995</TD><TD>6\\' 6\"</TD><TD>260</TD><TD ALIGN=LEFT>Colorado State</TD></TR><TR ALIGN=CENTER><TD>K</TD><TD>5</TD><TD ALIGN=RIGHT></TD><TD ALIGN=LEFT><A HREF=\"/football/pro/players.nsf/ID/09890068\">Zane Gonzalez</A></TD><TD>5</TD><TD ALIGN=CENTER>0</TD><TD>K</TD><TD>2</TD><TD>05/07/1995</TD><TD>6\\' 0\"</TD><TD>202</TD><TD ALIGN=LEFT>Arizona State</TD></TR><TR ALIGN=CENTER><TD>G</TD><TD>78</TD><TD ALIGN=RIGHT></TD><TD ALIGN=LEFT><A HREF=\"/football/pro/players.nsf/ID/09950388\">Colby Gossett</A></TD><TD>5</TD><TD ALIGN=CENTER>4</TD><TD>LG</TD><TD>R</TD><TD>06/23/1995</TD><TD>6\\' 5\"</TD><TD>311</TD><TD ALIGN=LEFT>Appalachian State</TD></TR><TR ALIGN=CENTER><TD>TE</TD><TD>84</TD><TD ALIGN=RIGHT></TD><TD ALIGN=LEFT><A HREF=\"/football/pro/players.nsf/ID/09130447\">Jermaine Gresham</A></TD><TD>13</TD><TD ALIGN=CENTER>11</TD><TD>TE+</TD><TD>9</TD><TD>06/16/1988</TD><TD>6\\' 5\"</TD><TD>260</TD><TD ALIGN=LEFT>Oklahoma</TD></TR><TR ALIGN=CENTER><TD>NT/DT</TD><TD>95</TD><TD ALIGN=RIGHT></TD><TD ALIGN=LEFT><A HREF=\"/football/pro/players.nsf/ID/09660244\">Rodney Gunter</A></TD><TD>16</TD><TD ALIGN=CENTER>10</TD><TD>RDT+</TD><TD>4</TD><TD>01/19/1992</TD><TD>6\\' 5\"</TD><TD>305</TD><TD ALIGN=LEFT>Delaware State</TD></TR><TR ALIGN=CENTER><TD>LB</TD><TD>51</TD><TD ALIGN=RIGHT></TD><TD ALIGN=LEFT><A HREF=\"/football/pro/players.nsf/ID/09470878\">Gerald Hodges</A></TD><TD>16</TD><TD ALIGN=CENTER>6</TD><TD>MLB/SLB</TD><TD>6</TD><TD>01/17/1991</TD><TD>6\\' 2\"</TD><TD>236</TD><TD ALIGN=LEFT>Penn State</TD></TR><TR ALIGN=CENTER><TD>G/T</TD><TD>69</TD><TD ALIGN=RIGHT></TD><TD ALIGN=LEFT><A HREF=\"/football/pro/players.nsf/ID/09850006\">Will Holden</A></TD><TD>4</TD><TD ALIGN=CENTER>2</TD><TD>LT/RT</TD><TD>2</TD><TD>09/14/1993</TD><TD>6\\' 7\"</TD><TD>312</TD><TD ALIGN=LEFT>Vanderbilt</TD></TR><TR ALIGN=CENTER><TD>TE</TD><TD>85</TD><TD ALIGN=RIGHT></TD><TD ALIGN=LEFT><A HREF=\"/football/pro/players.nsf/ID/09830380\">Gabe Holmes</A></TD><TD>8</TD><TD ALIGN=CENTER>4</TD><TD>TE</TD><TD>2</TD><TD>03/29/1991</TD><TD>6\\' 5\"</TD><TD>255</TD><TD ALIGN=LEFT>Purdue</TD></TR><TR ALIGN=CENTER><TD>T</TD><TD>74</TD><TD ALIGN=RIGHT></TD><TD ALIGN=LEFT><A HREF=\"/football/pro/players.nsf/ID/09750790\">D. J. Humphries</A></TD><TD>9</TD><TD ALIGN=CENTER>9</TD><TD>LT+</TD><TD>3</TD><TD>12/28/1993</TD><TD>6\\' 5\"</TD><TD>307</TD><TD ALIGN=LEFT>Florida</TD></TR><TR ALIGN=CENTER><TD>G</TD><TD>76</TD><TD ALIGN=RIGHT></TD><TD ALIGN=LEFT><A HREF=\"/football/pro/players.nsf/ID/09150476\">Mike Iupati</A></TD><TD>10</TD><TD ALIGN=CENTER>10</TD><TD>LG+</TD><TD>9</TD><TD>05/12/1987</TD><TD>6\\' 5\"</TD><TD>331</TD><TD ALIGN=LEFT>Idaho</TD></TR><TR ALIGN=CENTER><TD>RB</TD><TD>31</TD><TD ALIGN=RIGHT></TD><TD ALIGN=LEFT><A HREF=\"/football/pro/players.nsf/ID/09620242\">David Johnson</A></TD><TD>16</TD><TD ALIGN=CENTER>16</TD><TD>RB+</TD><TD>4</TD><TD>12/16/1991</TD><TD>6\\' 1\"</TD><TD>224</TD><TD ALIGN=LEFT>Northern Iowa</TD></TR><TR ALIGN=CENTER><TD>CB</TD><TD>27</TD><TD ALIGN=RIGHT></TD><TD ALIGN=LEFT><A HREF=\"/football/pro/players.nsf/ID/09380321\">Leonard Johnson</A></TD><TD>6</TD><TD ALIGN=CENTER>1</TD><TD>NB</TD><TD>7</TD><TD>03/30/1990</TD><TD>5\\' 10\"</TD><TD>194</TD><TD ALIGN=LEFT>Iowa State</TD></TR><TR ALIGN=CENTER><TD>DE/LB</TD><TD>55</TD><TD ALIGN=RIGHT></TD><TD ALIGN=LEFT><A HREF=\"/football/pro/players.nsf/ID/09360312\">Chandler Jones</A></TD><TD>16</TD><TD ALIGN=CENTER>16</TD><TD>RDE+</TD><TD>7</TD><TD>02/27/1990</TD><TD>6\\' 5\"</TD><TD>265</TD><TD ALIGN=LEFT>Syracuse</TD></TR><TR ALIGN=CENTER><TD>CB</TD><TD>25</TD><TD ALIGN=RIGHT></TD><TD ALIGN=LEFT><A HREF=\"/football/pro/players.nsf/ID/09980387\">Chris Jones</A></TD><TD>2</TD><TD ALIGN=CENTER>0</TD><TD>CB</TD><TD>1</TD><TD>08/13/1995</TD><TD>6\\' 0\"</TD><TD>200</TD><TD ALIGN=LEFT>Nebraska</TD></TR><TR ALIGN=CENTER><TD>WR</TD><TD>13</TD><TD ALIGN=RIGHT></TD><TD ALIGN=LEFT><A HREF=\"/football/pro/players.nsf/ID/09940100\">Christian Kirk</A></TD><TD>12</TD><TD ALIGN=CENTER>7</TD><TD>WR</TD><TD>R</TD><TD>11/18/1996</TD><TD>5\\' 11\"</TD><TD>200</TD><TD ALIGN=LEFT>Texas A&M</TD></TR><TR ALIGN=CENTER><TD>P</TD><TD>2</TD><TD ALIGN=RIGHT></TD><TD ALIGN=LEFT><A HREF=\"/football/pro/players.nsf/ID/08590329\">Andy Lee</A></TD><TD>16</TD><TD ALIGN=CENTER>0</TD><TD>P</TD><TD>15</TD><TD>08/11/1982</TD><TD>6\\' 1\"</TD><TD>185</TD><TD ALIGN=LEFT>Pittsburgh</TD></TR><TR ALIGN=CENTER><TD>RB</TD><TD>22</TD><TD ALIGN=RIGHT></TD><TD ALIGN=LEFT><A HREF=\"/football/pro/players.nsf/ID/09920096\">T. J. Logan</A></TD><TD>10</TD><TD ALIGN=CENTER>0</TD><TD>RB</TD><TD>1</TD><TD>09/03/1994</TD><TD>5\\' 10\"</TD><TD>195</TD><TD ALIGN=LEFT>North Carolina</TD></TR><TR ALIGN=CENTER><TD>DE</TD><TD>94</TD><TD ALIGN=RIGHT></TD><TD ALIGN=LEFT><A HREF=\"/football/pro/players.nsf/ID/09860368\">Cameron Malveaux</A></TD><TD>4</TD><TD ALIGN=CENTER>0</TD><TD>DE</TD><TD>2</TD><TD>09/22/1994</TD><TD>6\\' 5\"</TD><TD>265</TD><TD ALIGN=LEFT>Houston</TD></TR><TR ALIGN=CENTER><TD>DE</TD><TD>91</TD><TD ALIGN=RIGHT></TD><TD ALIGN=LEFT><A HREF=\"/football/pro/players.nsf/ID/09460805\">Benson Mayowa</A></TD><TD>15</TD><TD ALIGN=CENTER>4</TD><TD>LDE</TD><TD>6</TD><TD>08/03/1991</TD><TD>6\\' 3\"</TD><TD>265</TD><TD ALIGN=LEFT>Idaho</TD></TR><TR ALIGN=CENTER><TD>K</TD><TD>1</TD><TD ALIGN=RIGHT></TD><TD ALIGN=LEFT><A HREF=\"/football/pro/players.nsf/ID/09990294\">Matt McCrane</A></TD><TD>1</TD><TD ALIGN=CENTER>0</TD><TD>K</TD><TD>1</TD><TD>09/08/1994</TD><TD>5\\' 10\"</TD><TD>165</TD><TD ALIGN=LEFT>Kansas State</TD></TR><TR ALIGN=CENTER><TD>DE</TD><TD>56</TD><TD ALIGN=RIGHT></TD><TD ALIGN=LEFT><A HREF=\"/football/pro/players.nsf/ID/09560194\">Zach Moore</A></TD><TD>16</TD><TD ALIGN=CENTER>1</TD><TD>LDE</TD><TD>4</TD><TD>09/05/1990</TD><TD>6\\' 6\"</TD><TD>275</TD><TD ALIGN=LEFT>Concordia (MN)</TD></TR><TR ALIGN=CENTER><TD>C</TD><TD>62</TD><TD ALIGN=RIGHT></TD><TD ALIGN=LEFT><A HREF=\"/football/pro/players.nsf/ID/09650606\">Daniel Munyer</A></TD><TD>14</TD><TD ALIGN=CENTER>1</TD><TD>RG</TD><TD>3</TD><TD>03/04/1992</TD><TD>6\\' 1\"</TD><TD>305</TD><TD ALIGN=LEFT>Colorado</TD></TR><TR ALIGN=CENTER><TD>WR</TD><TD>14</TD><TD ALIGN=RIGHT></TD><TD ALIGN=LEFT><A HREF=\"/football/pro/players.nsf/ID/09640245\">J. J. Nelson</A></TD><TD>14</TD><TD ALIGN=CENTER>2</TD><TD>WR</TD><TD>4</TD><TD>04/24/1992</TD><TD>5\\' 10\"</TD><TD>160</TD><TD ALIGN=LEFT>Alabama - Birmingham</TD></TR><TR ALIGN=CENTER><TD>CB</TD><TD>39</TD><TD ALIGN=RIGHT></TD><TD ALIGN=LEFT><A HREF=\"/football/pro/players.nsf/ID/09980103\">Deatrick Nichols</A></TD><TD>2</TD><TD ALIGN=CENTER>0</TD><TD>CB</TD><TD>1</TD><TD>06/08/1994</TD><TD>5\\' 10\"</TD><TD>189</TD><TD ALIGN=LEFT>South Florida</TD></TR><TR ALIGN=CENTER><TD>DT</TD><TD>90</TD><TD ALIGN=RIGHT></TD><TD ALIGN=LEFT><A HREF=\"/football/pro/players.nsf/ID/09760796\">Robert Nkemdiche</A></TD><TD>10</TD><TD ALIGN=CENTER>6</TD><TD>RDT/LDT</TD><TD>3</TD><TD>09/19/1994</TD><TD>6\\' 4\"</TD><TD>296</TD><TD ALIGN=LEFT>Mississippi</TD></TR><TR ALIGN=CENTER><TD>DE</TD><TD>97</TD><TD ALIGN=RIGHT></TD><TD ALIGN=LEFT><A HREF=\"/football/pro/players.nsf/ID/09960355\">Ifeadi Odenigbo</A></TD><TD>1</TD><TD ALIGN=CENTER>0</TD><TD>DE</TD><TD>1</TD><TD>04/08/1994</TD><TD>6\\' 3\"</TD><TD>275</TD><TD ALIGN=LEFT>Northwestern</TD></TR><TR ALIGN=CENTER><TD>G</TD><TD>63</TD><TD ALIGN=RIGHT></TD><TD ALIGN=LEFT><A HREF=\"/football/pro/players.nsf/ID/09750824\">Rees Odhiambo</A></TD><TD>1</TD><TD ALIGN=CENTER>0</TD><TD>G</TD><TD>3</TD><TD>09/23/1992</TD><TD>6\\' 4\"</TD><TD>315</TD><TD ALIGN=LEFT>Boise State</TD></TR><TR ALIGN=CENTER><TD>DT/NT</TD><TD>98</TD><TD ALIGN=RIGHT></TD><TD ALIGN=LEFT><A HREF=\"/football/pro/players.nsf/ID/09160587\">Corey Peters</A></TD><TD>15</TD><TD ALIGN=CENTER>15</TD><TD>LDT+</TD><TD>8</TD><TD>06/08/1988</TD><TD>6\\' 3\"</TD><TD>305</TD><TD ALIGN=LEFT>Kentucky</TD></TR><TR ALIGN=CENTER><TD>CB</TD><TD>21</TD><TD ALIGN=RIGHT></TD><TD ALIGN=LEFT><A HREF=\"/football/pro/players.nsf/ID/09280319\">Patrick Peterson</A></TD><TD>16</TD><TD ALIGN=CENTER>16</TD><TD>LCB+/RCB</TD><TD>8</TD><TD>07/11/1990</TD><TD>6\\' 1\"</TD><TD>203</TD><TD ALIGN=LEFT>Louisiana State</TD></TR><TR ALIGN=CENTER><TD>TE</TD><TD>82</TD><TD ALIGN=RIGHT></TD><TD ALIGN=LEFT><A HREF=\"/football/pro/players.nsf/ID/09030274\">John Phillips</A></TD><TD>8</TD><TD ALIGN=CENTER>4</TD><TD>TE</TD><TD>9</TD><TD>06/11/1987</TD><TD>6\\' 5\"</TD><TD>251</TD><TD ALIGN=LEFT>Virginia</TD></TR><TR ALIGN=CENTER><TD>DT</TD><TD>72</TD><TD ALIGN=RIGHT></TD><TD ALIGN=LEFT><A HREF=\"/football/pro/players.nsf/ID/09860010\">Olsen Pierre</A></TD><TD>10</TD><TD ALIGN=CENTER>1</TD><TD>RDT</TD><TD>2</TD><TD>08/27/1991</TD><TD>6\\' 5\"</TD><TD>293</TD><TD ALIGN=LEFT>Miami (FL)</TD></TR><TR ALIGN=CENTER><TD>S</TD><TD>35</TD><TD ALIGN=RIGHT></TD><TD ALIGN=LEFT><A HREF=\"/football/pro/players.nsf/ID/09380533\">Eddie Pleasant</A></TD><TD>1</TD><TD ALIGN=CENTER>0</TD><TD>DB</TD><TD>7</TD><TD>12/17/1988</TD><TD>5\\' 10\"</TD><TD>210</TD><TD ALIGN=LEFT>Oregon</TD></TR><TR ALIGN=CENTER><TD>T/G</TD><TD>67</TD><TD ALIGN=RIGHT></TD><TD ALIGN=LEFT><A HREF=\"/football/pro/players.nsf/ID/09450760\">Justin Pugh</A></TD><TD>7</TD><TD ALIGN=CENTER>7</TD><TD>RG+</TD><TD>6</TD><TD>08/15/1990</TD><TD>6\\' 5\"</TD><TD>311</TD><TD ALIGN=LEFT>Syracuse</TD></TR><TR ALIGN=CENTER><TD>LB</TD><TD>43</TD><TD ALIGN=RIGHT></TD><TD ALIGN=LEFT><A HREF=\"/football/pro/players.nsf/ID/09870009\">Haason Reddick</A></TD><TD>16</TD><TD ALIGN=CENTER>12</TD><TD>SLB+/WLB</TD><TD>2</TD><TD>09/22/1994</TD><TD>6\\' 1\"</TD><TD>235</TD><TD ALIGN=LEFT>Temple</TD></TR><TR ALIGN=CENTER><TD>QB</TD><TD>3</TD><TD ALIGN=RIGHT></TD><TD ALIGN=LEFT><A HREF=\"/football/pro/players.nsf/ID/09910357\">Josh Rosen</A></TD><TD>14</TD><TD ALIGN=CENTER>13</TD><TD>QB+</TD><TD>R</TD><TD>02/10/1997</TD><TD>6\\' 4\"</TD><TD>218</TD><TD ALIGN=LEFT>UCLA</TD></TR><TR ALIGN=CENTER><TD>TE</TD><TD>86</TD><TD ALIGN=RIGHT></TD><TD ALIGN=LEFT><A HREF=\"/football/pro/players.nsf/ID/09830011\">Ricky Seals-Jones</A></TD><TD>15</TD><TD ALIGN=CENTER>5</TD><TD>TE+</TD><TD>2</TD><TD>03/15/1995</TD><TD>6\\' 5\"</TD><TD>243</TD><TD ALIGN=LEFT>Texas A&M</TD></TR><TR ALIGN=CENTER><TD>WR</TD><TD>16</TD><TD ALIGN=RIGHT></TD><TD ALIGN=LEFT><A HREF=\"/football/pro/players.nsf/ID/09940102\">Trent Sherfield</A></TD><TD>13</TD><TD ALIGN=CENTER>2</TD><TD>WR</TD><TD>1</TD><TD>02/26/1996</TD><TD>6\\' 1\"</TD><TD>205</TD><TD ALIGN=LEFT>Vanderbilt</TD></TR><TR ALIGN=CENTER><TD>T/G</TD><TD>71</TD><TD ALIGN=RIGHT></TD><TD ALIGN=LEFT><A HREF=\"/football/pro/players.nsf/ID/09050311\">Andre Smith</A></TD><TD>8</TD><TD ALIGN=CENTER>8</TD><TD>RT+</TD><TD>10</TD><TD>01/25/1987</TD><TD>6\\' 4\"</TD><TD>325</TD><TD ALIGN=LEFT>Alabama</TD></TR><TR ALIGN=CENTER><TD>DT</TD><TD>97</TD><TD ALIGN=RIGHT></TD><TD ALIGN=LEFT><A HREF=\"/football/pro/players.nsf/ID/09760826\">Garrison Smith</A></TD><TD>2</TD><TD ALIGN=CENTER>0</TD><TD>DT</TD><TD>3</TD><TD>10/09/1991</TD><TD>6\\' 1\"</TD><TD>295</TD><TD ALIGN=LEFT>Georgia</TD></TR><TR ALIGN=CENTER><TD>DE</TD><TD>96</TD><TD ALIGN=RIGHT></TD><TD ALIGN=LEFT><A HREF=\"/football/pro/players.nsf/ID/09560292\">Jacquies Smith</A></TD><TD>3</TD><TD ALIGN=CENTER>0</TD><TD>DE</TD><TD>5</TD><TD>03/18/1990</TD><TD>6\\' 2\"</TD><TD>260</TD><TD ALIGN=LEFT>Missouri</TD></TR><TR ALIGN=CENTER><TD>DT</TD><TD>65</TD><TD ALIGN=RIGHT></TD><TD ALIGN=LEFT><A HREF=\"/football/pro/players.nsf/ID/09960444\">Pasoni Tasini</A></TD><TD>1</TD><TD ALIGN=CENTER>0</TD><TD>DT</TD><TD>1</TD><TD>05/31/1993</TD><TD>6\\' 3\"</TD><TD>307</TD><TD ALIGN=LEFT>Utah</TD></TR><TR ALIGN=CENTER><TD>CB</TD><TD>28</TD><TD ALIGN=RIGHT></TD><TD ALIGN=LEFT><A HREF=\"/football/pro/players.nsf/ID/09480877\">Jamar Taylor</A></TD><TD>10</TD><TD ALIGN=CENTER>3</TD><TD>RCB</TD><TD>6</TD><TD>09/29/1990</TD><TD>5\\' 11\"</TD><TD>192</TD><TD ALIGN=LEFT>Boise State</TD></TR><TR ALIGN=CENTER><TD>WR</TD><TD>17</TD><TD ALIGN=RIGHT></TD><TD ALIGN=LEFT><A HREF=\"/football/pro/players.nsf/ID/09940390\">Jalen Tolliver</A></TD><TD>3</TD><TD ALIGN=CENTER>1</TD><TD>WR</TD><TD>1</TD><TD>12/30/1995</TD><TD>6\\' 3\"</TD><TD>210</TD><TD ALIGN=LEFT>Arkansas - Monticello</TD></TR><TR ALIGN=CENTER><TD>LB</TD><TD>47</TD><TD ALIGN=RIGHT></TD><TD ALIGN=LEFT><A HREF=\"/football/pro/players.nsf/ID/09970101\">Ezekiel Turner</A></TD><TD>16</TD><TD ALIGN=CENTER>1</TD><TD>WLB</TD><TD>1</TD><TD>06/09/1996</TD><TD>6\\' 2\"</TD><TD>214</TD><TD ALIGN=LEFT>Washington</TD></TR><TR ALIGN=CENTER><TD>DT</TD><TD>96</TD><TD ALIGN=RIGHT></TD><TD ALIGN=LEFT><A HREF=\"/football/pro/players.nsf/ID/09760766\">Vincent Valentine</A></TD><TD>3</TD><TD ALIGN=CENTER>0</TD><TD>DT</TD><TD>2</TD><TD>02/23/1994</TD><TD>6\\' 3\"</TD><TD>315</TD><TD ALIGN=LEFT>Nebraska</TD></TR><TR ALIGN=CENTER><TD>T</TD><TD>68</TD><TD ALIGN=RIGHT></TD><TD ALIGN=LEFT><A HREF=\"/football/pro/players.nsf/ID/09750888\">Jeremy Vujnovich</A></TD><TD>5</TD><TD ALIGN=CENTER>2</TD><TD>LG/RG</TD><TD>3</TD><TD>10/12/1990</TD><TD>6\\' 5\"</TD><TD>300</TD><TD ALIGN=LEFT>Louisiana College</TD></TR><TR ALIGN=CENTER><TD>LB</TD><TD>59</TD><TD ALIGN=RIGHT></TD><TD ALIGN=LEFT><A HREF=\"/football/pro/players.nsf/ID/09870241\">Joe Walker</A></TD><TD>14</TD><TD ALIGN=CENTER>0</TD><TD>LB</TD><TD>2</TD><TD>12/11/1992</TD><TD>6\\' 2\"</TD><TD>236</TD><TD ALIGN=LEFT>Oregon</TD></TR><TR ALIGN=CENTER><TD>T/G</TD><TD>73</TD><TD ALIGN=RIGHT></TD><TD ALIGN=LEFT><A HREF=\"/football/pro/players.nsf/ID/09750795\">John Wetzel</A></TD><TD>8</TD><TD ALIGN=CENTER>5</TD><TD>RT/LG/RG</TD><TD>3</TD><TD>07/18/1991</TD><TD>6\\' 7\"</TD><TD>328</TD><TD ALIGN=LEFT>Boston College</TD></TR><TR ALIGN=CENTER><TD>CB</TD><TD>26</TD><TD ALIGN=RIGHT></TD><TD ALIGN=LEFT><A HREF=\"/football/pro/players.nsf/ID/09780793\">Brandon Williams</A></TD><TD>16</TD><TD ALIGN=CENTER>0</TD><TD>CB</TD><TD>3</TD><TD>09/09/1992</TD><TD>6\\' 0\"</TD><TD>200</TD><TD ALIGN=LEFT>Texas A&M</TD></TR><TR ALIGN=CENTER><TD>WR</TD><TD>10</TD><TD ALIGN=RIGHT></TD><TD ALIGN=LEFT><A HREF=\"/football/pro/players.nsf/ID/09840007\">Chad Williams</A></TD><TD>10</TD><TD ALIGN=CENTER>7</TD><TD>WR+</TD><TD>2</TD><TD>10/19/1994</TD><TD>6\\' 1\"</TD><TD>204</TD><TD ALIGN=LEFT>Grambling State</TD></TR></TABLE></td></tr>\\n</table>\\n<br>\\n<hr width=\"100%\" size=\"5\" align=\"left\" noshade style=\"color:#000000; \"><br>\\n<i>Generated: </i><i>02/23/2019</i><br>\\n<i>Football Site Owner: </i><a href=\"mailto:jtroan@jt-sw.com\"><i>John Troan</i></a></form>\\n</body>\\n</html>\\n'"
      ]
     },
     "execution_count": 12,
     "metadata": {},
     "output_type": "execute_result"
    }
   ],
   "source": [
    "html"
   ]
  },
  {
   "cell_type": "code",
   "execution_count": 12,
   "metadata": {},
   "outputs": [],
   "source": [
    "import wget\n",
    "url = 'http://www.jt-sw.com/football/pro/rosters.nsf/Annual/2018-arz'\n",
    "roster = wget.download(url)"
   ]
  },
  {
   "cell_type": "code",
   "execution_count": null,
   "metadata": {},
   "outputs": [],
   "source": [
    "<ul>\n",
    "<li><a href=\"/football/pro/rosters.nsf/Annual/2018-arz\">Arizona Cardinals</a> </li><li><a href=\"/football/pro/rosters.nsf/Annual/2018-atl\">Atlanta Falcons</a> </li><li><a href=\"/football/pro/rosters.nsf/Annual/2018-bal\">Baltimore Ravens</a> </li><li><a href=\"/football/pro/rosters.nsf/Annual/2018-buf\">Buffalo Bills</a> </li><li><a href=\"/football/pro/rosters.nsf/Annual/2018-car\">Carolina Panthers</a> </li><li><a href=\"/football/pro/rosters.nsf/Annual/2018-chi\">Chicago Bears</a> </li><li><a href=\"/football/pro/rosters.nsf/Annual/2018-cin\">Cincinnati Bengals</a> </li><li><a href=\"/football/pro/rosters.nsf/Annual/2018-cle\">Cleveland Browns</a> </li><li><a href=\"/football/pro/rosters.nsf/Annual/2018-dal\">Dallas Cowboys</a> </li><li><a href=\"/football/pro/rosters.nsf/Annual/2018-den\">Denver Broncos</a> </li><li><a href=\"/football/pro/rosters.nsf/Annual/2018-det\">Detroit Lions</a> </li><li><a href=\"/football/pro/rosters.nsf/Annual/2018-gb\">Green Bay Packers</a> </li><li><a href=\"/football/pro/rosters.nsf/Annual/2018-hou\">Houston Texans</a> </li><li><a href=\"/football/pro/rosters.nsf/Annual/2018-ind\">Indianapolis Colts</a> </li><li><a href=\"/football/pro/rosters.nsf/Annual/2018-jac\">Jacksonville Jaguars</a> </li><li><a href=\"/football/pro/rosters.nsf/Annual/2018-kc\">Kansas City Chiefs</a> </li><li><a href=\"/football/pro/rosters.nsf/Annual/2018-lac\">Los Angeles Chargers</a> </li><li><a href=\"/football/pro/rosters.nsf/Annual/2018-lam\">Los Angeles Rams</a> </li><li><a href=\"/football/pro/rosters.nsf/Annual/2018-mia\">Miami Dolphins</a> </li><li><a href=\"/football/pro/rosters.nsf/Annual/2018-min\">Minnesota Vikings</a> </li><li><a href=\"/football/pro/rosters.nsf/Annual/2018-ne\">New England Patriots</a> </li><li><a href=\"/football/pro/rosters.nsf/Annual/2018-no\">New Orleans Saints</a> </li><li><a href=\"/football/pro/rosters.nsf/Annual/2018-nyg\">New York Giants</a> </li><li><a href=\"/football/pro/rosters.nsf/Annual/2018-nyj\">New York Jets</a> </li><li><a href=\"/football/pro/rosters.nsf/Annual/2018-oak\">Oakland Raiders</a> </li><li><a href=\"/football/pro/rosters.nsf/Annual/2018-phi\">Philadelphia Eagles</a> </li><li><a href=\"/football/pro/rosters.nsf/Annual/2018-pit\">Pittsburgh Steelers</a> </li><li><a href=\"/football/pro/rosters.nsf/Annual/2018-sf\">San Francisco 49ers</a> </li><li><a href=\"/football/pro/rosters.nsf/Annual/2018-sea\">Seattle Seahawks</a> </li><li><a href=\"/football/pro/rosters.nsf/Annual/2018-tb\">Tampa Bay Buccaneers</a> </li><li><a href=\"/football/pro/rosters.nsf/Annual/2018-ten\">Tennessee Titans</a> </li><li><a href=\"/football/pro/rosters.nsf/Annual/2018-was\">Washington Redskins</a>\n",
    "</li></ul>"
   ]
  }
 ],
 "metadata": {
  "kernelspec": {
   "display_name": "Python 3",
   "language": "python",
   "name": "python3"
  },
  "language_info": {
   "codemirror_mode": {
    "name": "ipython",
    "version": 3
   },
   "file_extension": ".py",
   "mimetype": "text/x-python",
   "name": "python",
   "nbconvert_exporter": "python",
   "pygments_lexer": "ipython3",
   "version": "3.7.2"
  },
  "toc": {
   "base_numbering": 1,
   "nav_menu": {},
   "number_sections": true,
   "sideBar": true,
   "skip_h1_title": true,
   "title_cell": "contents",
   "title_sidebar": "contents",
   "toc_cell": true,
   "toc_position": {},
   "toc_section_display": true,
   "toc_window_display": true
  }
 },
 "nbformat": 4,
 "nbformat_minor": 2
}
